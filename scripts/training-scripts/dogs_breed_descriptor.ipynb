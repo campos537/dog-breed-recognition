{
 "cells": [
  {
   "cell_type": "markdown",
   "id": "19078b86",
   "metadata": {},
   "source": [
    "### Dogs Breed Descriptor\n",
    "\n",
    "Esse notebook foi feito para modificar o modelo de classificacao de modo a dar o output de um descriptor com 512 valores, sendo utilizado para a parte final do projeto\n",
    "\n",
    "by: Crystal Silva Campos <https://github.com/campos537>"
   ]
  },
  {
   "cell_type": "markdown",
   "id": "e4983c2e",
   "metadata": {},
   "source": [
    "### Step 1\n",
    "importar as bibliotecas"
   ]
  },
  {
   "cell_type": "code",
   "execution_count": null,
   "id": "96ce9f2a",
   "metadata": {},
   "outputs": [],
   "source": [
    "%matplotlib inline\n",
    "%config InlineBackend.figure_format = 'retina'\n",
    "import os\n",
    "# Plot library\n",
    "import matplotlib.pyplot as plt\n",
    "# Fast array processing library\n",
    "import numpy as np\n",
    "# Deep Learning framework\n",
    "import torch\n",
    "from torch import nn\n",
    "from torch import optim\n",
    "import torch.nn.functional as F\n",
    "from torchvision import datasets, transforms, models\n",
    "# Library to find the best learning rate\n",
    "from torch_lr_finder import LRFinder\n",
    "from autoaugment import ImageNetPolicy, CIFAR10Policy, SVHNPolicy, SubPolicy\n",
    "import cv2"
   ]
  },
  {
   "cell_type": "markdown",
   "id": "b0feed24",
   "metadata": {},
   "source": [
    "### Step 2\n",
    "Nesse passo vou carregar o modelo e setar alguns parametros utilizados pelo mesmo"
   ]
  },
  {
   "cell_type": "code",
   "execution_count": null,
   "id": "2ba3f527",
   "metadata": {},
   "outputs": [],
   "source": [
    "input_size = (224,224)\n",
    "device = torch.device(\"cuda\")\n",
    "model_name = \"dog_class_model_resnet50.pt\"\n",
    "model_loaded = torch.load(model_name)\n",
    "model_loaded.eval()\n",
    "model_loaded.to(\"cpu\")"
   ]
  },
  {
   "cell_type": "markdown",
   "id": "4d5d975c",
   "metadata": {},
   "source": [
    "### Step 3\n",
    "Remove as ultimas layers da parte de classificacao para fazer o modelo funcionar retornando um vetor de features com 512 descriptors."
   ]
  },
  {
   "cell_type": "code",
   "execution_count": null,
   "id": "bd6817f0",
   "metadata": {},
   "outputs": [],
   "source": [
    "model_loaded.fc = nn.Sequential(nn.Linear(2048, 512))"
   ]
  },
  {
   "cell_type": "markdown",
   "id": "013ab47f",
   "metadata": {},
   "source": [
    "### Step 4\n",
    "Salva o modelo no formato ONNX"
   ]
  },
  {
   "cell_type": "code",
   "execution_count": null,
   "id": "c83c8992",
   "metadata": {},
   "outputs": [],
   "source": [
    "model_loaded.eval()\n",
    "model_loaded.to(\"cpu\")\n",
    "output_onnx_name = \"desc_\" + model_name[:-3] + \".onnx\"\n",
    "dummy_input = torch.randn(1, 3, input_size[0], input_size[1], device='cpu')\n",
    "torch.onnx.export(model_loaded, dummy_input, output_onnx_name , verbose=True)"
   ]
  },
  {
   "cell_type": "markdown",
   "id": "08b853f5",
   "metadata": {},
   "source": [
    "### Step 5\n",
    "Checar o modelo onnx gerado"
   ]
  },
  {
   "cell_type": "code",
   "execution_count": null,
   "id": "3e1bc9ab",
   "metadata": {},
   "outputs": [],
   "source": [
    "import onnx\n",
    "onnx_model = onnx.load(output_onnx_name)\n",
    "onnx.checker.check_model(onnx_model)\n",
    "print(onnx.helper.printable_graph(onnx_model.graph))"
   ]
  },
  {
   "cell_type": "markdown",
   "id": "604a2fd7",
   "metadata": {},
   "source": [
    "### Step 5\n",
    "Testar descriptor em imagem usando opencv"
   ]
  },
  {
   "cell_type": "code",
   "execution_count": null,
   "id": "58ff8abb",
   "metadata": {},
   "outputs": [],
   "source": [
    "img = cv2.imread(\"chewie1.png\")\n",
    "model = cv2.dnn.readNetFromONNX(output_onnx_name)\n",
    "blob =  cv2.dnn.blobFromImage(img, 1/255, (224,224), (), True, False)\n",
    "model.setInput(blob)\n",
    "out = model.forward()\n",
    "print(out)\n",
    "\n",
    "plt.imshow(img)\n",
    "plt.title('Shitzu')\n",
    "plt.show()"
   ]
  }
 ],
 "metadata": {
  "kernelspec": {
   "display_name": "dogs-env",
   "language": "python",
   "name": "dogs-env"
  },
  "language_info": {
   "codemirror_mode": {
    "name": "ipython",
    "version": 3
   },
   "file_extension": ".py",
   "mimetype": "text/x-python",
   "name": "python",
   "nbconvert_exporter": "python",
   "pygments_lexer": "ipython3",
   "version": "3.7.9"
  }
 },
 "nbformat": 4,
 "nbformat_minor": 5
}
